{
 "cells": [
  {
   "cell_type": "code",
   "execution_count": 1,
   "id": "b4c8453b",
   "metadata": {},
   "outputs": [],
   "source": [
    "# import the librarys \n",
    "import pandas as pd\n",
    "import numpy as np\n",
    "from sklearn.compose import ColumnTransformer\n",
    "from sklearn.preprocessing import FunctionTransformer\n",
    "from sklearn.compose import make_column_selector\n",
    "from sklearn.impute import SimpleImputer\n",
    "from sklearn.impute import MissingIndicator\n",
    "from sklearn.pipeline import Pipeline,make_pipeline\n",
    "from sklearn.preprocessing import MinMaxScaler\n",
    "from sklearn.preprocessing import StandardScaler\n",
    "from sklearn.feature_selection import SelectKBest,chi2\n",
    "from sklearn.model_selection import train_test_split\n",
    "import warnings\n",
    "warnings.filterwarnings('ignore')\n"
   ]
  },
  {
   "cell_type": "code",
   "execution_count": 2,
   "id": "fdeb4ea7",
   "metadata": {},
   "outputs": [
    {
     "name": "stdout",
     "output_type": "stream",
     "text": [
      "(40000, 15)\n",
      "(10000, 14)\n"
     ]
    }
   ],
   "source": [
    "# import the data from comma seprated values (csv file)\n",
    "trainDf=pd.read_csv(\"train.csv\")\n",
    "testDf=pd.read_csv(\"test.csv\")\n",
    "print(trainDf.shape)\n",
    "print(testDf.shape)"
   ]
  },
  {
   "cell_type": "code",
   "execution_count": 3,
   "id": "58d0c060",
   "metadata": {},
   "outputs": [
    {
     "data": {
      "text/plain": [
       "Index(['id', 'song_duration_ms', 'acousticness', 'danceability', 'energy',\n",
       "       'instrumentalness', 'key', 'liveness', 'loudness', 'audio_mode',\n",
       "       'speechiness', 'tempo', 'time_signature', 'audio_valence',\n",
       "       'song_popularity'],\n",
       "      dtype='object')"
      ]
     },
     "execution_count": 3,
     "metadata": {},
     "output_type": "execute_result"
    }
   ],
   "source": [
    "trainDf.columns"
   ]
  },
  {
   "cell_type": "code",
   "execution_count": 4,
   "id": "f9c32362",
   "metadata": {},
   "outputs": [
    {
     "data": {
      "text/plain": [
       "Index(['id', 'song_duration_ms', 'acousticness', 'danceability', 'energy',\n",
       "       'instrumentalness', 'key', 'liveness', 'loudness', 'audio_mode',\n",
       "       'speechiness', 'tempo', 'time_signature', 'audio_valence'],\n",
       "      dtype='object')"
      ]
     },
     "execution_count": 4,
     "metadata": {},
     "output_type": "execute_result"
    }
   ],
   "source": [
    "testDf.columns"
   ]
  },
  {
   "cell_type": "code",
   "execution_count": 3,
   "id": "83336d95",
   "metadata": {},
   "outputs": [],
   "source": [
    "# first i drop Id column form data  because i don't think it will help me for analysis \n",
    "trainDf.drop('id',axis=1,inplace=True)\n",
    "testDf.drop('id',axis=1,inplace=True)\n",
    "\n"
   ]
  },
  {
   "cell_type": "code",
   "execution_count": 6,
   "id": "95372e8b",
   "metadata": {},
   "outputs": [
    {
     "data": {
      "text/html": [
       "<div>\n",
       "<style scoped>\n",
       "    .dataframe tbody tr th:only-of-type {\n",
       "        vertical-align: middle;\n",
       "    }\n",
       "\n",
       "    .dataframe tbody tr th {\n",
       "        vertical-align: top;\n",
       "    }\n",
       "\n",
       "    .dataframe thead th {\n",
       "        text-align: right;\n",
       "    }\n",
       "</style>\n",
       "<table border=\"1\" class=\"dataframe\">\n",
       "  <thead>\n",
       "    <tr style=\"text-align: right;\">\n",
       "      <th></th>\n",
       "      <th>song_duration_ms</th>\n",
       "      <th>acousticness</th>\n",
       "      <th>danceability</th>\n",
       "      <th>energy</th>\n",
       "      <th>instrumentalness</th>\n",
       "      <th>key</th>\n",
       "      <th>liveness</th>\n",
       "      <th>loudness</th>\n",
       "      <th>audio_mode</th>\n",
       "      <th>speechiness</th>\n",
       "      <th>tempo</th>\n",
       "      <th>time_signature</th>\n",
       "      <th>audio_valence</th>\n",
       "      <th>song_popularity</th>\n",
       "    </tr>\n",
       "  </thead>\n",
       "  <tbody>\n",
       "    <tr>\n",
       "      <th>8682</th>\n",
       "      <td>217594.0</td>\n",
       "      <td>0.062394</td>\n",
       "      <td>0.768167</td>\n",
       "      <td>0.765830</td>\n",
       "      <td>0.001428</td>\n",
       "      <td>6.0</td>\n",
       "      <td>0.114057</td>\n",
       "      <td>-3.891405</td>\n",
       "      <td>1</td>\n",
       "      <td>0.080001</td>\n",
       "      <td>148.983298</td>\n",
       "      <td>3</td>\n",
       "      <td>0.779235</td>\n",
       "      <td>1</td>\n",
       "    </tr>\n",
       "    <tr>\n",
       "      <th>22380</th>\n",
       "      <td>172987.0</td>\n",
       "      <td>0.014824</td>\n",
       "      <td>0.616125</td>\n",
       "      <td>0.818873</td>\n",
       "      <td>-0.000208</td>\n",
       "      <td>0.0</td>\n",
       "      <td>0.087002</td>\n",
       "      <td>-4.402016</td>\n",
       "      <td>0</td>\n",
       "      <td>0.253875</td>\n",
       "      <td>151.395277</td>\n",
       "      <td>3</td>\n",
       "      <td>0.658068</td>\n",
       "      <td>1</td>\n",
       "    </tr>\n",
       "    <tr>\n",
       "      <th>37596</th>\n",
       "      <td>209337.0</td>\n",
       "      <td>0.647925</td>\n",
       "      <td>0.471704</td>\n",
       "      <td>0.791125</td>\n",
       "      <td>0.893206</td>\n",
       "      <td>7.0</td>\n",
       "      <td>0.751185</td>\n",
       "      <td>-4.618551</td>\n",
       "      <td>0</td>\n",
       "      <td>0.035911</td>\n",
       "      <td>164.059659</td>\n",
       "      <td>3</td>\n",
       "      <td>0.317951</td>\n",
       "      <td>1</td>\n",
       "    </tr>\n",
       "    <tr>\n",
       "      <th>30265</th>\n",
       "      <td>210606.0</td>\n",
       "      <td>0.086558</td>\n",
       "      <td>0.708314</td>\n",
       "      <td>0.922790</td>\n",
       "      <td>0.001898</td>\n",
       "      <td>10.0</td>\n",
       "      <td>0.117139</td>\n",
       "      <td>NaN</td>\n",
       "      <td>0</td>\n",
       "      <td>0.145635</td>\n",
       "      <td>118.926432</td>\n",
       "      <td>4</td>\n",
       "      <td>0.697577</td>\n",
       "      <td>1</td>\n",
       "    </tr>\n",
       "    <tr>\n",
       "      <th>26144</th>\n",
       "      <td>209125.0</td>\n",
       "      <td>0.020585</td>\n",
       "      <td>0.621575</td>\n",
       "      <td>0.696875</td>\n",
       "      <td>NaN</td>\n",
       "      <td>5.0</td>\n",
       "      <td>0.153165</td>\n",
       "      <td>-4.921654</td>\n",
       "      <td>0</td>\n",
       "      <td>0.129106</td>\n",
       "      <td>106.742086</td>\n",
       "      <td>4</td>\n",
       "      <td>0.376641</td>\n",
       "      <td>0</td>\n",
       "    </tr>\n",
       "  </tbody>\n",
       "</table>\n",
       "</div>"
      ],
      "text/plain": [
       "       song_duration_ms  acousticness  danceability    energy  \\\n",
       "8682           217594.0      0.062394      0.768167  0.765830   \n",
       "22380          172987.0      0.014824      0.616125  0.818873   \n",
       "37596          209337.0      0.647925      0.471704  0.791125   \n",
       "30265          210606.0      0.086558      0.708314  0.922790   \n",
       "26144          209125.0      0.020585      0.621575  0.696875   \n",
       "\n",
       "       instrumentalness   key  liveness  loudness  audio_mode  speechiness  \\\n",
       "8682           0.001428   6.0  0.114057 -3.891405           1     0.080001   \n",
       "22380         -0.000208   0.0  0.087002 -4.402016           0     0.253875   \n",
       "37596          0.893206   7.0  0.751185 -4.618551           0     0.035911   \n",
       "30265          0.001898  10.0  0.117139       NaN           0     0.145635   \n",
       "26144               NaN   5.0  0.153165 -4.921654           0     0.129106   \n",
       "\n",
       "            tempo  time_signature  audio_valence  song_popularity  \n",
       "8682   148.983298               3       0.779235                1  \n",
       "22380  151.395277               3       0.658068                1  \n",
       "37596  164.059659               3       0.317951                1  \n",
       "30265  118.926432               4       0.697577                1  \n",
       "26144  106.742086               4       0.376641                0  "
      ]
     },
     "execution_count": 6,
     "metadata": {},
     "output_type": "execute_result"
    }
   ],
   "source": [
    "trainDf.sample(5)"
   ]
  },
  {
   "cell_type": "code",
   "execution_count": 7,
   "id": "8a786798",
   "metadata": {
    "scrolled": true
   },
   "outputs": [
    {
     "name": "stdout",
     "output_type": "stream",
     "text": [
      "<class 'pandas.core.frame.DataFrame'>\n",
      "RangeIndex: 10000 entries, 0 to 9999\n",
      "Data columns (total 13 columns):\n",
      " #   Column            Non-Null Count  Dtype  \n",
      "---  ------            --------------  -----  \n",
      " 0   song_duration_ms  9043 non-null   float64\n",
      " 1   acousticness      9050 non-null   float64\n",
      " 2   danceability      9024 non-null   float64\n",
      " 3   energy            8945 non-null   float64\n",
      " 4   instrumentalness  9000 non-null   float64\n",
      " 5   key               9008 non-null   float64\n",
      " 6   liveness          8994 non-null   float64\n",
      " 7   loudness          8974 non-null   float64\n",
      " 8   audio_mode        10000 non-null  int64  \n",
      " 9   speechiness       10000 non-null  float64\n",
      " 10  tempo             10000 non-null  float64\n",
      " 11  time_signature    10000 non-null  int64  \n",
      " 12  audio_valence     10000 non-null  float64\n",
      "dtypes: float64(11), int64(2)\n",
      "memory usage: 1015.8 KB\n"
     ]
    }
   ],
   "source": [
    "testDf.info()"
   ]
  },
  {
   "cell_type": "code",
   "execution_count": 8,
   "id": "c95e1d87",
   "metadata": {},
   "outputs": [
    {
     "data": {
      "text/html": [
       "<div>\n",
       "<style scoped>\n",
       "    .dataframe tbody tr th:only-of-type {\n",
       "        vertical-align: middle;\n",
       "    }\n",
       "\n",
       "    .dataframe tbody tr th {\n",
       "        vertical-align: top;\n",
       "    }\n",
       "\n",
       "    .dataframe thead th {\n",
       "        text-align: right;\n",
       "    }\n",
       "</style>\n",
       "<table border=\"1\" class=\"dataframe\">\n",
       "  <thead>\n",
       "    <tr style=\"text-align: right;\">\n",
       "      <th></th>\n",
       "      <th>song_duration_ms</th>\n",
       "      <th>acousticness</th>\n",
       "      <th>danceability</th>\n",
       "      <th>energy</th>\n",
       "      <th>instrumentalness</th>\n",
       "      <th>key</th>\n",
       "      <th>liveness</th>\n",
       "      <th>loudness</th>\n",
       "      <th>audio_mode</th>\n",
       "      <th>speechiness</th>\n",
       "      <th>tempo</th>\n",
       "      <th>time_signature</th>\n",
       "      <th>audio_valence</th>\n",
       "      <th>song_popularity</th>\n",
       "    </tr>\n",
       "  </thead>\n",
       "  <tbody>\n",
       "    <tr>\n",
       "      <th>count</th>\n",
       "      <td>35899.000000</td>\n",
       "      <td>36008.000000</td>\n",
       "      <td>35974.000000</td>\n",
       "      <td>36025.000000</td>\n",
       "      <td>36015.000000</td>\n",
       "      <td>35935.000000</td>\n",
       "      <td>35914.000000</td>\n",
       "      <td>36043.000000</td>\n",
       "      <td>40000.000000</td>\n",
       "      <td>40000.000000</td>\n",
       "      <td>40000.000000</td>\n",
       "      <td>40000.000000</td>\n",
       "      <td>40000.000000</td>\n",
       "      <td>40000.000000</td>\n",
       "    </tr>\n",
       "    <tr>\n",
       "      <th>mean</th>\n",
       "      <td>193165.847572</td>\n",
       "      <td>0.276404</td>\n",
       "      <td>0.570951</td>\n",
       "      <td>0.683932</td>\n",
       "      <td>0.036527</td>\n",
       "      <td>5.042605</td>\n",
       "      <td>0.198514</td>\n",
       "      <td>-7.407596</td>\n",
       "      <td>0.321150</td>\n",
       "      <td>0.094107</td>\n",
       "      <td>116.562815</td>\n",
       "      <td>3.394375</td>\n",
       "      <td>0.580645</td>\n",
       "      <td>0.364400</td>\n",
       "    </tr>\n",
       "    <tr>\n",
       "      <th>std</th>\n",
       "      <td>45822.127679</td>\n",
       "      <td>0.297928</td>\n",
       "      <td>0.190010</td>\n",
       "      <td>0.212662</td>\n",
       "      <td>0.150024</td>\n",
       "      <td>3.372728</td>\n",
       "      <td>0.151670</td>\n",
       "      <td>3.877198</td>\n",
       "      <td>0.466924</td>\n",
       "      <td>0.083591</td>\n",
       "      <td>26.167911</td>\n",
       "      <td>0.524405</td>\n",
       "      <td>0.237351</td>\n",
       "      <td>0.481268</td>\n",
       "    </tr>\n",
       "    <tr>\n",
       "      <th>min</th>\n",
       "      <td>25658.000000</td>\n",
       "      <td>-0.013551</td>\n",
       "      <td>0.043961</td>\n",
       "      <td>-0.001682</td>\n",
       "      <td>-0.004398</td>\n",
       "      <td>0.000000</td>\n",
       "      <td>0.027843</td>\n",
       "      <td>-32.117911</td>\n",
       "      <td>0.000000</td>\n",
       "      <td>0.015065</td>\n",
       "      <td>62.055779</td>\n",
       "      <td>2.000000</td>\n",
       "      <td>0.013398</td>\n",
       "      <td>0.000000</td>\n",
       "    </tr>\n",
       "    <tr>\n",
       "      <th>25%</th>\n",
       "      <td>166254.500000</td>\n",
       "      <td>0.039618</td>\n",
       "      <td>0.424760</td>\n",
       "      <td>0.539276</td>\n",
       "      <td>0.000941</td>\n",
       "      <td>2.000000</td>\n",
       "      <td>0.111796</td>\n",
       "      <td>-9.578139</td>\n",
       "      <td>0.000000</td>\n",
       "      <td>0.038500</td>\n",
       "      <td>96.995309</td>\n",
       "      <td>3.000000</td>\n",
       "      <td>0.398669</td>\n",
       "      <td>0.000000</td>\n",
       "    </tr>\n",
       "    <tr>\n",
       "      <th>50%</th>\n",
       "      <td>186660.000000</td>\n",
       "      <td>0.140532</td>\n",
       "      <td>0.608234</td>\n",
       "      <td>0.704453</td>\n",
       "      <td>0.001974</td>\n",
       "      <td>5.000000</td>\n",
       "      <td>0.135945</td>\n",
       "      <td>-6.345413</td>\n",
       "      <td>0.000000</td>\n",
       "      <td>0.055881</td>\n",
       "      <td>113.795959</td>\n",
       "      <td>3.000000</td>\n",
       "      <td>0.598827</td>\n",
       "      <td>0.000000</td>\n",
       "    </tr>\n",
       "    <tr>\n",
       "      <th>75%</th>\n",
       "      <td>215116.000000</td>\n",
       "      <td>0.482499</td>\n",
       "      <td>0.718464</td>\n",
       "      <td>0.870503</td>\n",
       "      <td>0.003225</td>\n",
       "      <td>8.000000</td>\n",
       "      <td>0.212842</td>\n",
       "      <td>-4.620711</td>\n",
       "      <td>1.000000</td>\n",
       "      <td>0.118842</td>\n",
       "      <td>128.517383</td>\n",
       "      <td>4.000000</td>\n",
       "      <td>0.759635</td>\n",
       "      <td>1.000000</td>\n",
       "    </tr>\n",
       "    <tr>\n",
       "      <th>max</th>\n",
       "      <td>491671.000000</td>\n",
       "      <td>1.065284</td>\n",
       "      <td>0.957131</td>\n",
       "      <td>1.039741</td>\n",
       "      <td>1.075415</td>\n",
       "      <td>11.000000</td>\n",
       "      <td>1.065298</td>\n",
       "      <td>-0.877346</td>\n",
       "      <td>1.000000</td>\n",
       "      <td>0.560748</td>\n",
       "      <td>219.163578</td>\n",
       "      <td>5.000000</td>\n",
       "      <td>1.022558</td>\n",
       "      <td>1.000000</td>\n",
       "    </tr>\n",
       "  </tbody>\n",
       "</table>\n",
       "</div>"
      ],
      "text/plain": [
       "       song_duration_ms  acousticness  danceability        energy  \\\n",
       "count      35899.000000  36008.000000  35974.000000  36025.000000   \n",
       "mean      193165.847572      0.276404      0.570951      0.683932   \n",
       "std        45822.127679      0.297928      0.190010      0.212662   \n",
       "min        25658.000000     -0.013551      0.043961     -0.001682   \n",
       "25%       166254.500000      0.039618      0.424760      0.539276   \n",
       "50%       186660.000000      0.140532      0.608234      0.704453   \n",
       "75%       215116.000000      0.482499      0.718464      0.870503   \n",
       "max       491671.000000      1.065284      0.957131      1.039741   \n",
       "\n",
       "       instrumentalness           key      liveness      loudness  \\\n",
       "count      36015.000000  35935.000000  35914.000000  36043.000000   \n",
       "mean           0.036527      5.042605      0.198514     -7.407596   \n",
       "std            0.150024      3.372728      0.151670      3.877198   \n",
       "min           -0.004398      0.000000      0.027843    -32.117911   \n",
       "25%            0.000941      2.000000      0.111796     -9.578139   \n",
       "50%            0.001974      5.000000      0.135945     -6.345413   \n",
       "75%            0.003225      8.000000      0.212842     -4.620711   \n",
       "max            1.075415     11.000000      1.065298     -0.877346   \n",
       "\n",
       "         audio_mode   speechiness         tempo  time_signature  \\\n",
       "count  40000.000000  40000.000000  40000.000000    40000.000000   \n",
       "mean       0.321150      0.094107    116.562815        3.394375   \n",
       "std        0.466924      0.083591     26.167911        0.524405   \n",
       "min        0.000000      0.015065     62.055779        2.000000   \n",
       "25%        0.000000      0.038500     96.995309        3.000000   \n",
       "50%        0.000000      0.055881    113.795959        3.000000   \n",
       "75%        1.000000      0.118842    128.517383        4.000000   \n",
       "max        1.000000      0.560748    219.163578        5.000000   \n",
       "\n",
       "       audio_valence  song_popularity  \n",
       "count   40000.000000     40000.000000  \n",
       "mean        0.580645         0.364400  \n",
       "std         0.237351         0.481268  \n",
       "min         0.013398         0.000000  \n",
       "25%         0.398669         0.000000  \n",
       "50%         0.598827         0.000000  \n",
       "75%         0.759635         1.000000  \n",
       "max         1.022558         1.000000  "
      ]
     },
     "execution_count": 8,
     "metadata": {},
     "output_type": "execute_result"
    }
   ],
   "source": [
    "trainDf.describe()"
   ]
  },
  {
   "cell_type": "code",
   "execution_count": 4,
   "id": "efcaec54",
   "metadata": {},
   "outputs": [],
   "source": [
    "# Step 1 -> train/test/split\n",
    "X_train,X_test,y_train,y_test = train_test_split(trainDf.drop(columns=[\"song_popularity\"]),\n",
    "                                                 trainDf[\"song_popularity\"],\n",
    "                                                 test_size=0.2,\n",
    "                                                random_state=42)"
   ]
  },
  {
   "cell_type": "code",
   "execution_count": 5,
   "id": "5f8f99ed",
   "metadata": {},
   "outputs": [
    {
     "name": "stdout",
     "output_type": "stream",
     "text": [
      "(32000, 13)\n",
      "(8000, 13)\n",
      "(32000,)\n",
      "(8000,)\n"
     ]
    }
   ],
   "source": [
    "print(X_train.shape)\n",
    "print(X_test.shape)\n",
    "print(y_train.shape)\n",
    "print(y_test.shape)"
   ]
  },
  {
   "cell_type": "code",
   "execution_count": 11,
   "id": "727c20e0",
   "metadata": {},
   "outputs": [
    {
     "data": {
      "text/plain": [
       "32823    1\n",
       "16298    0\n",
       "28505    0\n",
       "6689     1\n",
       "26893    0\n",
       "        ..\n",
       "13618    0\n",
       "35165    1\n",
       "16359    1\n",
       "3842     1\n",
       "37682    0\n",
       "Name: song_popularity, Length: 8000, dtype: int64"
      ]
     },
     "execution_count": 11,
     "metadata": {},
     "output_type": "execute_result"
    }
   ],
   "source": [
    "y_test"
   ]
  },
  {
   "cell_type": "markdown",
   "id": "2efb2d9a",
   "metadata": {},
   "source": [
    "# Pipe Line"
   ]
  },
  {
   "cell_type": "code",
   "execution_count": 19,
   "id": "ec58b240",
   "metadata": {},
   "outputs": [],
   "source": [
    "num_pipeline=Pipeline([\n",
    "    ('imputer',SimpleImputer(strategy=\"median\")),\n",
    "    \n",
    "    ('std_sacaler',StandardScaler())])"
   ]
  },
  {
   "cell_type": "code",
   "execution_count": 20,
   "id": "daa07bed",
   "metadata": {},
   "outputs": [],
   "source": [
    "X_train_tr=num_pipeline.fit_transform(X_train)\n",
    "X_test_tr=num_pipeline.fit_transform(X_test)\n",
    "testDf_tr=num_pipeline.fit_transform(testDf)"
   ]
  },
  {
   "cell_type": "code",
   "execution_count": 21,
   "id": "832855b3",
   "metadata": {},
   "outputs": [],
   "source": [
    "X_train=pd.DataFrame(data=X_train_tr,columns=X_train.columns)\n",
    "X_test=pd.DataFrame(data=X_test_tr,columns=X_test.columns)\n",
    "testDf=pd.DataFrame(data=testDf_tr,columns=testDf.columns)"
   ]
  },
  {
   "cell_type": "code",
   "execution_count": 118,
   "id": "08110db8",
   "metadata": {},
   "outputs": [],
   "source": [
    "from sklearn import set_config\n",
    "set_config(display='diagram')"
   ]
  },
  {
   "cell_type": "code",
   "execution_count": 119,
   "id": "9ed3c325",
   "metadata": {},
   "outputs": [
    {
     "data": {
      "text/html": [
       "<style>#sk-container-id-9 {color: black;background-color: white;}#sk-container-id-9 pre{padding: 0;}#sk-container-id-9 div.sk-toggleable {background-color: white;}#sk-container-id-9 label.sk-toggleable__label {cursor: pointer;display: block;width: 100%;margin-bottom: 0;padding: 0.3em;box-sizing: border-box;text-align: center;}#sk-container-id-9 label.sk-toggleable__label-arrow:before {content: \"▸\";float: left;margin-right: 0.25em;color: #696969;}#sk-container-id-9 label.sk-toggleable__label-arrow:hover:before {color: black;}#sk-container-id-9 div.sk-estimator:hover label.sk-toggleable__label-arrow:before {color: black;}#sk-container-id-9 div.sk-toggleable__content {max-height: 0;max-width: 0;overflow: hidden;text-align: left;background-color: #f0f8ff;}#sk-container-id-9 div.sk-toggleable__content pre {margin: 0.2em;color: black;border-radius: 0.25em;background-color: #f0f8ff;}#sk-container-id-9 input.sk-toggleable__control:checked~div.sk-toggleable__content {max-height: 200px;max-width: 100%;overflow: auto;}#sk-container-id-9 input.sk-toggleable__control:checked~label.sk-toggleable__label-arrow:before {content: \"▾\";}#sk-container-id-9 div.sk-estimator input.sk-toggleable__control:checked~label.sk-toggleable__label {background-color: #d4ebff;}#sk-container-id-9 div.sk-label input.sk-toggleable__control:checked~label.sk-toggleable__label {background-color: #d4ebff;}#sk-container-id-9 input.sk-hidden--visually {border: 0;clip: rect(1px 1px 1px 1px);clip: rect(1px, 1px, 1px, 1px);height: 1px;margin: -1px;overflow: hidden;padding: 0;position: absolute;width: 1px;}#sk-container-id-9 div.sk-estimator {font-family: monospace;background-color: #f0f8ff;border: 1px dotted black;border-radius: 0.25em;box-sizing: border-box;margin-bottom: 0.5em;}#sk-container-id-9 div.sk-estimator:hover {background-color: #d4ebff;}#sk-container-id-9 div.sk-parallel-item::after {content: \"\";width: 100%;border-bottom: 1px solid gray;flex-grow: 1;}#sk-container-id-9 div.sk-label:hover label.sk-toggleable__label {background-color: #d4ebff;}#sk-container-id-9 div.sk-serial::before {content: \"\";position: absolute;border-left: 1px solid gray;box-sizing: border-box;top: 0;bottom: 0;left: 50%;z-index: 0;}#sk-container-id-9 div.sk-serial {display: flex;flex-direction: column;align-items: center;background-color: white;padding-right: 0.2em;padding-left: 0.2em;position: relative;}#sk-container-id-9 div.sk-item {position: relative;z-index: 1;}#sk-container-id-9 div.sk-parallel {display: flex;align-items: stretch;justify-content: center;background-color: white;position: relative;}#sk-container-id-9 div.sk-item::before, #sk-container-id-9 div.sk-parallel-item::before {content: \"\";position: absolute;border-left: 1px solid gray;box-sizing: border-box;top: 0;bottom: 0;left: 50%;z-index: -1;}#sk-container-id-9 div.sk-parallel-item {display: flex;flex-direction: column;z-index: 1;position: relative;background-color: white;}#sk-container-id-9 div.sk-parallel-item:first-child::after {align-self: flex-end;width: 50%;}#sk-container-id-9 div.sk-parallel-item:last-child::after {align-self: flex-start;width: 50%;}#sk-container-id-9 div.sk-parallel-item:only-child::after {width: 0;}#sk-container-id-9 div.sk-dashed-wrapped {border: 1px dashed gray;margin: 0 0.4em 0.5em 0.4em;box-sizing: border-box;padding-bottom: 0.4em;background-color: white;}#sk-container-id-9 div.sk-label label {font-family: monospace;font-weight: bold;display: inline-block;line-height: 1.2em;}#sk-container-id-9 div.sk-label-container {text-align: center;}#sk-container-id-9 div.sk-container {/* jupyter's `normalize.less` sets `[hidden] { display: none; }` but bootstrap.min.css set `[hidden] { display: none !important; }` so we also need the `!important` here to be able to override the default hidden behavior on the sphinx rendered scikit-learn.org. See: https://github.com/scikit-learn/scikit-learn/issues/21755 */display: inline-block !important;position: relative;}#sk-container-id-9 div.sk-text-repr-fallback {display: none;}</style><div id=\"sk-container-id-9\" class=\"sk-top-container\"><div class=\"sk-text-repr-fallback\"><pre>Pipeline(steps=[(&#x27;imputer&#x27;, SimpleImputer(strategy=&#x27;median&#x27;)),\n",
       "                (&#x27;std_sacaler&#x27;, StandardScaler())])</pre><b>In a Jupyter environment, please rerun this cell to show the HTML representation or trust the notebook. <br />On GitHub, the HTML representation is unable to render, please try loading this page with nbviewer.org.</b></div><div class=\"sk-container\" hidden><div class=\"sk-item sk-dashed-wrapped\"><div class=\"sk-label-container\"><div class=\"sk-label sk-toggleable\"><input class=\"sk-toggleable__control sk-hidden--visually\" id=\"sk-estimator-id-23\" type=\"checkbox\" ><label for=\"sk-estimator-id-23\" class=\"sk-toggleable__label sk-toggleable__label-arrow\">Pipeline</label><div class=\"sk-toggleable__content\"><pre>Pipeline(steps=[(&#x27;imputer&#x27;, SimpleImputer(strategy=&#x27;median&#x27;)),\n",
       "                (&#x27;std_sacaler&#x27;, StandardScaler())])</pre></div></div></div><div class=\"sk-serial\"><div class=\"sk-item\"><div class=\"sk-estimator sk-toggleable\"><input class=\"sk-toggleable__control sk-hidden--visually\" id=\"sk-estimator-id-24\" type=\"checkbox\" ><label for=\"sk-estimator-id-24\" class=\"sk-toggleable__label sk-toggleable__label-arrow\">SimpleImputer</label><div class=\"sk-toggleable__content\"><pre>SimpleImputer(strategy=&#x27;median&#x27;)</pre></div></div></div><div class=\"sk-item\"><div class=\"sk-estimator sk-toggleable\"><input class=\"sk-toggleable__control sk-hidden--visually\" id=\"sk-estimator-id-25\" type=\"checkbox\" ><label for=\"sk-estimator-id-25\" class=\"sk-toggleable__label sk-toggleable__label-arrow\">StandardScaler</label><div class=\"sk-toggleable__content\"><pre>StandardScaler()</pre></div></div></div></div></div></div></div>"
      ],
      "text/plain": [
       "Pipeline(steps=[('imputer', SimpleImputer(strategy='median')),\n",
       "                ('std_sacaler', StandardScaler())])"
      ]
     },
     "execution_count": 119,
     "metadata": {},
     "output_type": "execute_result"
    }
   ],
   "source": [
    "num_pipeline"
   ]
  },
  {
   "cell_type": "code",
   "execution_count": 121,
   "id": "1e561c6c",
   "metadata": {},
   "outputs": [
    {
     "data": {
      "text/plain": [
       "[('imputer', SimpleImputer(strategy='median')),\n",
       " ('std_sacaler', StandardScaler())]"
      ]
     },
     "execution_count": 121,
     "metadata": {},
     "output_type": "execute_result"
    }
   ],
   "source": [
    "num_pipeline.steps"
   ]
  },
  {
   "cell_type": "markdown",
   "id": "49c72921",
   "metadata": {},
   "source": [
    "# outlier detection and removel"
   ]
  },
  {
   "cell_type": "code",
   "execution_count": 22,
   "id": "b9937acb",
   "metadata": {},
   "outputs": [],
   "source": [
    "def outliers_detection(data):\n",
    "    columnsForOutlierDetection=list(data.columns)\n",
    "    for column in columnsForOutlierDetection:\n",
    "        \n",
    "        Q1 = np.percentile(data[column], 25)\n",
    "        Q3 = np.percentile(data[column], 75)\n",
    "        IQR = Q3-Q1\n",
    "\n",
    "        UB = Q3 + 1.5*IQR\n",
    "        LB = Q1 - 1.5*IQR\n",
    "\n",
    "        # Upper bound operation\n",
    "        data[column] = np.where(data[column] > UB, UB, data[column])\n",
    "\n",
    "        # Lower bound operation\n",
    "        data[column] = np.where(data[column] < LB, LB, data[column])\n",
    "    \n",
    "    return data"
   ]
  },
  {
   "cell_type": "code",
   "execution_count": 23,
   "id": "b973033f",
   "metadata": {},
   "outputs": [],
   "source": [
    "testDf=outliers_detection(testDf)\n",
    "X_test=outliers_detection(X_test)\n",
    "X_train=outliers_detection(X_train)"
   ]
  },
  {
   "cell_type": "code",
   "execution_count": 117,
   "id": "e0764706",
   "metadata": {},
   "outputs": [
    {
     "data": {
      "text/html": [
       "<div>\n",
       "<style scoped>\n",
       "    .dataframe tbody tr th:only-of-type {\n",
       "        vertical-align: middle;\n",
       "    }\n",
       "\n",
       "    .dataframe tbody tr th {\n",
       "        vertical-align: top;\n",
       "    }\n",
       "\n",
       "    .dataframe thead th {\n",
       "        text-align: right;\n",
       "    }\n",
       "</style>\n",
       "<table border=\"1\" class=\"dataframe\">\n",
       "  <thead>\n",
       "    <tr style=\"text-align: right;\">\n",
       "      <th></th>\n",
       "      <th>song_duration_ms</th>\n",
       "      <th>acousticness</th>\n",
       "      <th>danceability</th>\n",
       "      <th>energy</th>\n",
       "      <th>instrumentalness</th>\n",
       "      <th>key</th>\n",
       "      <th>liveness</th>\n",
       "      <th>loudness</th>\n",
       "      <th>audio_mode</th>\n",
       "      <th>speechiness</th>\n",
       "      <th>tempo</th>\n",
       "      <th>time_signature</th>\n",
       "      <th>audio_valence</th>\n",
       "    </tr>\n",
       "  </thead>\n",
       "  <tbody>\n",
       "    <tr>\n",
       "      <th>count</th>\n",
       "      <td>32000.000000</td>\n",
       "      <td>32000.000000</td>\n",
       "      <td>32000.000000</td>\n",
       "      <td>32000.000000</td>\n",
       "      <td>32000.000000</td>\n",
       "      <td>3.200000e+04</td>\n",
       "      <td>32000.000000</td>\n",
       "      <td>32000.000000</td>\n",
       "      <td>3.200000e+04</td>\n",
       "      <td>3.200000e+04</td>\n",
       "      <td>3.200000e+04</td>\n",
       "      <td>3.200000e+04</td>\n",
       "      <td>3.200000e+04</td>\n",
       "    </tr>\n",
       "    <tr>\n",
       "      <th>mean</th>\n",
       "      <td>-0.024433</td>\n",
       "      <td>-0.000082</td>\n",
       "      <td>0.000002</td>\n",
       "      <td>0.000631</td>\n",
       "      <td>-0.215929</td>\n",
       "      <td>4.477738e-16</td>\n",
       "      <td>-0.170584</td>\n",
       "      <td>0.034664</td>\n",
       "      <td>1.948719e-16</td>\n",
       "      <td>2.433106e-16</td>\n",
       "      <td>4.939671e-16</td>\n",
       "      <td>1.564970e-15</td>\n",
       "      <td>2.320678e-16</td>\n",
       "    </tr>\n",
       "    <tr>\n",
       "      <th>std</th>\n",
       "      <td>0.878260</td>\n",
       "      <td>0.999798</td>\n",
       "      <td>1.000011</td>\n",
       "      <td>0.998147</td>\n",
       "      <td>0.012343</td>\n",
       "      <td>1.000016e+00</td>\n",
       "      <td>0.542291</td>\n",
       "      <td>0.887910</td>\n",
       "      <td>1.000016e+00</td>\n",
       "      <td>1.000016e+00</td>\n",
       "      <td>1.000016e+00</td>\n",
       "      <td>1.000016e+00</td>\n",
       "      <td>1.000016e+00</td>\n",
       "    </tr>\n",
       "    <tr>\n",
       "      <th>min</th>\n",
       "      <td>-1.996991</td>\n",
       "      <td>-0.966213</td>\n",
       "      <td>-2.882331</td>\n",
       "      <td>-2.830092</td>\n",
       "      <td>-0.244807</td>\n",
       "      <td>-1.571361e+00</td>\n",
       "      <td>-1.132727</td>\n",
       "      <td>-2.238729</td>\n",
       "      <td>-6.824995e-01</td>\n",
       "      <td>-1.065208e+00</td>\n",
       "      <td>-2.121938e+00</td>\n",
       "      <td>-2.653718e+00</td>\n",
       "      <td>-2.392131e+00</td>\n",
       "    </tr>\n",
       "    <tr>\n",
       "      <th>25%</th>\n",
       "      <td>-0.550130</td>\n",
       "      <td>-0.752485</td>\n",
       "      <td>-0.711609</td>\n",
       "      <td>-0.617466</td>\n",
       "      <td>-0.223934</td>\n",
       "      <td>-9.463829e-01</td>\n",
       "      <td>-0.537737</td>\n",
       "      <td>-0.486642</td>\n",
       "      <td>-6.824995e-01</td>\n",
       "      <td>-7.261645e-01</td>\n",
       "      <td>-7.575445e-01</td>\n",
       "      <td>-7.482524e-01</td>\n",
       "      <td>-7.662357e-01</td>\n",
       "    </tr>\n",
       "    <tr>\n",
       "      <th>50%</th>\n",
       "      <td>-0.132163</td>\n",
       "      <td>-0.428893</td>\n",
       "      <td>0.181338</td>\n",
       "      <td>0.095348</td>\n",
       "      <td>-0.217640</td>\n",
       "      <td>-8.915703e-03</td>\n",
       "      <td>-0.387757</td>\n",
       "      <td>0.254000</td>\n",
       "      <td>-6.824995e-01</td>\n",
       "      <td>-4.745878e-01</td>\n",
       "      <td>-1.008548e-01</td>\n",
       "      <td>-7.482524e-01</td>\n",
       "      <td>7.408929e-02</td>\n",
       "    </tr>\n",
       "    <tr>\n",
       "      <th>75%</th>\n",
       "      <td>0.414445</td>\n",
       "      <td>0.591596</td>\n",
       "      <td>0.735539</td>\n",
       "      <td>0.857618</td>\n",
       "      <td>-0.210019</td>\n",
       "      <td>9.285515e-01</td>\n",
       "      <td>0.057416</td>\n",
       "      <td>0.681415</td>\n",
       "      <td>1.465203e+00</td>\n",
       "      <td>4.314927e-01</td>\n",
       "      <td>4.755557e-01</td>\n",
       "      <td>1.157213e+00</td>\n",
       "      <td>7.519131e-01</td>\n",
       "    </tr>\n",
       "    <tr>\n",
       "      <th>max</th>\n",
       "      <td>1.861306</td>\n",
       "      <td>2.607716</td>\n",
       "      <td>2.109741</td>\n",
       "      <td>1.754097</td>\n",
       "      <td>-0.189146</td>\n",
       "      <td>1.866019e+00</td>\n",
       "      <td>0.950146</td>\n",
       "      <td>1.746063</td>\n",
       "      <td>1.465203e+00</td>\n",
       "      <td>2.167978e+00</td>\n",
       "      <td>2.325206e+00</td>\n",
       "      <td>3.062678e+00</td>\n",
       "      <td>1.862182e+00</td>\n",
       "    </tr>\n",
       "  </tbody>\n",
       "</table>\n",
       "</div>"
      ],
      "text/plain": [
       "       song_duration_ms  acousticness  danceability        energy  \\\n",
       "count      32000.000000  32000.000000  32000.000000  32000.000000   \n",
       "mean          -0.024433     -0.000082      0.000002      0.000631   \n",
       "std            0.878260      0.999798      1.000011      0.998147   \n",
       "min           -1.996991     -0.966213     -2.882331     -2.830092   \n",
       "25%           -0.550130     -0.752485     -0.711609     -0.617466   \n",
       "50%           -0.132163     -0.428893      0.181338      0.095348   \n",
       "75%            0.414445      0.591596      0.735539      0.857618   \n",
       "max            1.861306      2.607716      2.109741      1.754097   \n",
       "\n",
       "       instrumentalness           key      liveness      loudness  \\\n",
       "count      32000.000000  3.200000e+04  32000.000000  32000.000000   \n",
       "mean          -0.215929  4.477738e-16     -0.170584      0.034664   \n",
       "std            0.012343  1.000016e+00      0.542291      0.887910   \n",
       "min           -0.244807 -1.571361e+00     -1.132727     -2.238729   \n",
       "25%           -0.223934 -9.463829e-01     -0.537737     -0.486642   \n",
       "50%           -0.217640 -8.915703e-03     -0.387757      0.254000   \n",
       "75%           -0.210019  9.285515e-01      0.057416      0.681415   \n",
       "max           -0.189146  1.866019e+00      0.950146      1.746063   \n",
       "\n",
       "         audio_mode   speechiness         tempo  time_signature  audio_valence  \n",
       "count  3.200000e+04  3.200000e+04  3.200000e+04    3.200000e+04   3.200000e+04  \n",
       "mean   1.948719e-16  2.433106e-16  4.939671e-16    1.564970e-15   2.320678e-16  \n",
       "std    1.000016e+00  1.000016e+00  1.000016e+00    1.000016e+00   1.000016e+00  \n",
       "min   -6.824995e-01 -1.065208e+00 -2.121938e+00   -2.653718e+00  -2.392131e+00  \n",
       "25%   -6.824995e-01 -7.261645e-01 -7.575445e-01   -7.482524e-01  -7.662357e-01  \n",
       "50%   -6.824995e-01 -4.745878e-01 -1.008548e-01   -7.482524e-01   7.408929e-02  \n",
       "75%    1.465203e+00  4.314927e-01  4.755557e-01    1.157213e+00   7.519131e-01  \n",
       "max    1.465203e+00  2.167978e+00  2.325206e+00    3.062678e+00   1.862182e+00  "
      ]
     },
     "execution_count": 117,
     "metadata": {},
     "output_type": "execute_result"
    }
   ],
   "source": [
    "X_train.describe()"
   ]
  },
  {
   "cell_type": "code",
   "execution_count": 24,
   "id": "e05ee54c",
   "metadata": {},
   "outputs": [
    {
     "data": {
      "text/plain": [
       "0    20335\n",
       "1    11665\n",
       "Name: song_popularity, dtype: int64"
      ]
     },
     "execution_count": 24,
     "metadata": {},
     "output_type": "execute_result"
    }
   ],
   "source": [
    "y_train.value_counts()"
   ]
  },
  {
   "cell_type": "markdown",
   "id": "b67f2a7a",
   "metadata": {},
   "source": [
    "## Model building"
   ]
  },
  {
   "cell_type": "code",
   "execution_count": 1,
   "id": "57724731",
   "metadata": {},
   "outputs": [],
   "source": [
    "from sklearn.linear_model import LogisticRegression\n",
    "from sklearn.tree  import DecisionTreeClassifier\n",
    "from sklearn.neighbors import KNeighborsClassifier\n",
    "from sklearn.svm import SVC\n",
    "from sklearn.ensemble import RandomForestClassifier\n",
    "from sklearn.metrics import precision_score,f1_score,recall_score,accuracy_score,confusion_matrix\n"
   ]
  },
  {
   "cell_type": "code",
   "execution_count": 38,
   "id": "1c7731f4",
   "metadata": {},
   "outputs": [],
   "source": [
    "def Model_Result(actual,pred):\n",
    "    print(\"Confusion Matrix\")\n",
    "    confusion=confusion_matrix(actual,pred)\n",
    "    print(confusion)\n",
    "    print(\"**********************************************************\")\n",
    "    print('Accuracy -',accuracy_score(actual,pred))\n",
    "    print(\"Recall -\",recall_score(actual,pred))\n",
    "    print(\"Precision -\",precision_score(actual,pred))\n",
    "    print(\"F1 Score -\",f1_score(actual,pred))\n",
    "    \n",
    "    Mat= [accuracy_score(actual,pred),recall_score(actual,pred),precision_score(actual,pred),f1_score(actual,pred)]\n",
    "    return Mat"
   ]
  },
  {
   "cell_type": "code",
   "execution_count": 44,
   "id": "fd425c5f",
   "metadata": {},
   "outputs": [],
   "source": [
    "validation_dict={}\n",
    "def different_model(model):\n",
    "    ml=model\n",
    "    \n",
    "    ml.fit(X_train,y_train)\n",
    "    \n",
    "    pred_y = ml.predict(X_test)\n",
    "    \n",
    "    return_list=Model_Result(y_test,pred_y)\n",
    "    validation_dict[model]=return_list"
   ]
  },
  {
   "cell_type": "code",
   "execution_count": 48,
   "id": "5bbe4afc",
   "metadata": {},
   "outputs": [
    {
     "name": "stdout",
     "output_type": "stream",
     "text": [
      "Confusion Matrix\n",
      "[[5088    1]\n",
      " [2909    2]]\n",
      "**********************************************************\n",
      "Accuracy - 0.63625\n",
      "Recall - 0.0006870491240123669\n",
      "Precision - 0.6666666666666666\n",
      "F1 Score - 0.0013726835964310226\n"
     ]
    }
   ],
   "source": [
    "# Logistics regression\n",
    "different_model(LogisticRegression(random_state=2))"
   ]
  },
  {
   "cell_type": "code",
   "execution_count": 34,
   "id": "17e85c7a",
   "metadata": {},
   "outputs": [
    {
     "name": "stdout",
     "output_type": "stream",
     "text": [
      "Confusion Matrix\n",
      "[[3222 1867]\n",
      " [1832 1079]]\n",
      "**********************************************************\n",
      "Accuracy - 0.537625\n",
      "Recall - 0.3706630024046719\n",
      "Precision - 0.3662593346911066\n",
      "F1 Score - 0.36844801092709584\n"
     ]
    }
   ],
   "source": [
    "# DecisionTreeClassifier\n",
    "different_model(DecisionTreeClassifier())"
   ]
  },
  {
   "cell_type": "code",
   "execution_count": 49,
   "id": "7cf61508",
   "metadata": {},
   "outputs": [
    {
     "name": "stdout",
     "output_type": "stream",
     "text": [
      "Confusion Matrix\n",
      "[[4824  265]\n",
      " [2680  231]]\n",
      "**********************************************************\n",
      "Accuracy - 0.631875\n",
      "Recall - 0.07935417382342838\n",
      "Precision - 0.4657258064516129\n",
      "F1 Score - 0.1356031699442325\n"
     ]
    }
   ],
   "source": [
    "# RandomForestClassifier\n",
    "different_model(RandomForestClassifier(random_state=1))"
   ]
  },
  {
   "cell_type": "code",
   "execution_count": 36,
   "id": "533bec9a",
   "metadata": {},
   "outputs": [
    {
     "name": "stdout",
     "output_type": "stream",
     "text": [
      "Confusion Matrix\n",
      "[[3755 1334]\n",
      " [2131  780]]\n",
      "**********************************************************\n",
      "Accuracy - 0.566875\n",
      "Recall - 0.2679491583648231\n",
      "Precision - 0.36896877956480606\n",
      "F1 Score - 0.31044776119402984\n"
     ]
    }
   ],
   "source": [
    "# KNeighborsClassifier\n",
    "different_model(KNeighborsClassifier())"
   ]
  },
  {
   "cell_type": "code",
   "execution_count": 37,
   "id": "481033c1",
   "metadata": {},
   "outputs": [
    {
     "name": "stdout",
     "output_type": "stream",
     "text": [
      "Confusion Matrix\n",
      "[[5088    1]\n",
      " [2910    1]]\n",
      "**********************************************************\n",
      "Accuracy - 0.636125\n",
      "Recall - 0.00034352456200618345\n",
      "Precision - 0.5\n",
      "F1 Score - 0.0006865774116031583\n"
     ]
    }
   ],
   "source": [
    "# SVC\n",
    "different_model(SVC())"
   ]
  },
  {
   "cell_type": "markdown",
   "id": "76e903e9",
   "metadata": {},
   "source": [
    "## hyperparameter tuning"
   ]
  },
  {
   "cell_type": "code",
   "execution_count": null,
   "id": "d456d5dd",
   "metadata": {},
   "outputs": [],
   "source": [
    "# know i select three algorithm for hyperprameter tuning because they three give me best result\n",
    "# 1-SVC\n",
    "# 2- RandomForestClassifier \n",
    "# 3- Logistics regression"
   ]
  },
  {
   "cell_type": "code",
   "execution_count": 51,
   "id": "57999406",
   "metadata": {},
   "outputs": [],
   "source": [
    "# decsion tree gridsearchcv\n",
    "from sklearn.model_selection import GridSearchCV"
   ]
  },
  {
   "cell_type": "code",
   "execution_count": 61,
   "id": "5ff0bc6d",
   "metadata": {},
   "outputs": [],
   "source": [
    "# parameter for random forest \n",
    "my_pram_grid={\"n_estimators\":[50,100],\n",
    "              \"max_features\":[\"sqrt\",\"log2\",' auto'],\n",
    "              \"min_samples_split\":[300,500,200,None]}"
   ]
  },
  {
   "cell_type": "code",
   "execution_count": 89,
   "id": "357b835c",
   "metadata": {},
   "outputs": [],
   "source": [
    "# parameter for logistic regression \n",
    "my_pram_grid1={\"solver\":['lbfgs','liblinear','sag','saga'],\n",
    "              \"penalty\":['l1','l2',None],\n",
    "              \"C\":[100,10,1,0.1]}\n"
   ]
  },
  {
   "cell_type": "code",
   "execution_count": 90,
   "id": "d66dce37",
   "metadata": {},
   "outputs": [],
   "source": [
    "# parameter for  SVC\n",
    "my_pram_grid2 = {'C': [0.1, 1, 10], \n",
    "              'gamma': [1, 0.01],\n",
    "              'kernel': ['rbf']} "
   ]
  },
  {
   "cell_type": "code",
   "execution_count": 95,
   "id": "364573fe",
   "metadata": {},
   "outputs": [],
   "source": [
    "def hyperparameter(model,my_pram):\n",
    "    grid_search_model=GridSearchCV(estimator=model,param_grid=my_pram,cv=5,n_jobs=-1)\n",
    "    grid = grid_search_model.fit(X_train,y_train)\n",
    "    print('accuracy',grid.best_score_) \n",
    "    print('parameter',grid.best_params_) "
   ]
  },
  {
   "cell_type": "code",
   "execution_count": 96,
   "id": "436d4750",
   "metadata": {},
   "outputs": [
    {
     "name": "stdout",
     "output_type": "stream",
     "text": [
      "accuracy 0.63540625\n",
      "parameter {'C': 0.1, 'penalty': 'l2', 'solver': 'lbfgs'}\n"
     ]
    }
   ],
   "source": [
    "hyperparameter(LogisticRegression(),my_pram_grid1)"
   ]
  },
  {
   "cell_type": "code",
   "execution_count": 97,
   "id": "391a8856",
   "metadata": {},
   "outputs": [
    {
     "name": "stdout",
     "output_type": "stream",
     "text": [
      "accuracy 0.6355625\n",
      "parameter {'max_features': 'sqrt', 'min_samples_split': 300, 'n_estimators': 100}\n"
     ]
    }
   ],
   "source": [
    "hyperparameter(RandomForestClassifier(),my_pram_grid)"
   ]
  },
  {
   "cell_type": "code",
   "execution_count": 120,
   "id": "1c1548f2",
   "metadata": {},
   "outputs": [],
   "source": [
    "#hyperparameter(SVC(),my_pram_grid2)"
   ]
  },
  {
   "cell_type": "markdown",
   "id": "a7d14ab2",
   "metadata": {},
   "source": [
    "## final model"
   ]
  },
  {
   "cell_type": "code",
   "execution_count": 111,
   "id": "0e6af05a",
   "metadata": {},
   "outputs": [],
   "source": [
    "# random forest \n",
    "Model=RandomForestClassifier(random_state=123,max_features='sqrt',min_samples_split=300,n_estimators=100)\n",
    "m=Model.fit(X_train,y_train)"
   ]
  },
  {
   "cell_type": "code",
   "execution_count": 114,
   "id": "1647ebf8",
   "metadata": {},
   "outputs": [],
   "source": [
    "Test_Pred=m.predict(X_test)"
   ]
  },
  {
   "cell_type": "code",
   "execution_count": 115,
   "id": "b8197d7a",
   "metadata": {},
   "outputs": [
    {
     "name": "stdout",
     "output_type": "stream",
     "text": [
      "              precision    recall  f1-score   support\n",
      "\n",
      "           0       0.64      1.00      0.78      5089\n",
      "           1       0.65      0.00      0.01      2911\n",
      "\n",
      "    accuracy                           0.64      8000\n",
      "   macro avg       0.64      0.50      0.39      8000\n",
      "weighted avg       0.64      0.64      0.50      8000\n",
      "\n"
     ]
    }
   ],
   "source": [
    "# Validation on Testset\n",
    "from sklearn.metrics import classification_report \n",
    "print(classification_report(y_test, Test_Pred))"
   ]
  },
  {
   "cell_type": "code",
   "execution_count": null,
   "id": "28f571bd",
   "metadata": {},
   "outputs": [],
   "source": []
  },
  {
   "cell_type": "code",
   "execution_count": null,
   "id": "99e893b9",
   "metadata": {},
   "outputs": [],
   "source": []
  }
 ],
 "metadata": {
  "kernelspec": {
   "display_name": "Python 3 (ipykernel)",
   "language": "python",
   "name": "python3"
  },
  "language_info": {
   "codemirror_mode": {
    "name": "ipython",
    "version": 3
   },
   "file_extension": ".py",
   "mimetype": "text/x-python",
   "name": "python",
   "nbconvert_exporter": "python",
   "pygments_lexer": "ipython3",
   "version": "3.9.13"
  }
 },
 "nbformat": 4,
 "nbformat_minor": 5
}
